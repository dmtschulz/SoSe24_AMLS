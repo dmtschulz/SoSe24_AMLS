{
 "cells": [
  {
   "cell_type": "markdown",
   "metadata": {},
   "source": [
    "### 1.1 Data Acquisition and Alignment (15/100 points)"
   ]
  },
  {
   "cell_type": "markdown",
   "metadata": {},
   "source": [
    "#### 1.1.1 Download and Process OSM Data"
   ]
  },
  {
   "cell_type": "code",
   "execution_count": null,
   "metadata": {},
   "outputs": [],
   "source": [
    "import pyrosm\n",
    "import rasterio\n",
    "import matplotlib.pyplot as plt\n",
    "from rasterio.plot import show\n",
    "import geopandas as gpd\n",
    "\n",
    "def download_and_process_osm_data(city_name):\n",
    "    print(f\"Downloading and processing OSM data for {city_name}...\")\n",
    "    # Download the data into specified directory\n",
    "    fp = pyrosm.get_data(f\"{city_name}\", directory=\"./\")\n",
    "    print(f\"{city_name} data was downloaded to:\", fp)\n",
    "    \n",
    "    # Initialize the OSM object \n",
    "    osm = pyrosm.OSM(fp)\n",
    "\n",
    "    buildings = osm.get_buildings()\n",
    "    print(\"OSM data get_buildings done.\")\n",
    "    print(\"Plotting....\")\n",
    "    buildings.plot()\n",
    "\n",
    "\n",
    "    # Convert to GeoDataFrame\n",
    "    gdf = gpd.GeoDataFrame(buildings, geometry='geometry')\n",
    "    # Get coordinate bounds\n",
    "    bbox = gdf.total_bounds\n",
    "    \n",
    "    # Filter everything other than buildings\n",
    "    gdf = gdf[gdf[\"building\"].notnull()]\n",
    "\n",
    "    print(f\"Finished processing OSM data for {city_name}.\")\n",
    "\n",
    "    return gdf, bbox"
   ]
  },
  {
   "cell_type": "code",
   "execution_count": null,
   "metadata": {},
   "outputs": [],
   "source": [
    "# List of 10 'big' cities\n",
    "cities = [\"Berlin\"]\n",
    "\n",
    "# Loop through each city\n",
    "for city in cities:\n",
    "    # Download and process OSM data\n",
    "    gdf, bbox = download_and_process_osm_data(city)\n",
    "    print(f\"Bounding box for {city}: {bbox}\")\n",
    "    print(f\"Number of buildings in {city}: {len(gdf)}\")\n",
    "    print(f\"CRS of buildings in {city}: {gdf.crs}\")"
   ]
  },
  {
   "cell_type": "code",
   "execution_count": null,
   "metadata": {},
   "outputs": [],
   "source": [
    "# Function to plot buildings\n",
    "def plot_buildings(gdf):\n",
    "    # Plot the buildings\n",
    "    gdf.plot(figsize=(10, 10))\n",
    "    plt.title(\"Buildings from OpenStreetMap\")\n",
    "    plt.xlabel(\"Longitude\")\n",
    "    plt.ylabel(\"Latitude\")\n",
    "    plt.show()\n",
    "\n",
    "# Plot buildings\n",
    "plot_buildings(gdf)"
   ]
  },
  {
   "cell_type": "markdown",
   "metadata": {},
   "source": [
    "#### 1.1.1 Download Sentinel-2 L2A Data Using OpenEO"
   ]
  },
  {
   "cell_type": "code",
   "execution_count": 62,
   "metadata": {},
   "outputs": [],
   "source": [
    "import openeo\n",
    "\n",
    "def connect_to_openeo():\n",
    "    print(\"Connecting to OpenEO...\")\n",
    "    connection = openeo.connect(\"https://openeo.dataspace.copernicus.eu\")\n",
    "    connection.authenticate_oidc()\n",
    "    print(\"Connected to OpenEO.\")\n",
    "    return connection\n",
    "\n",
    "def download_sentinel2_images_openeo(connection, bbox, start_date, end_date, cloud_cover_percentage):\n",
    "    # Define the area of interest\n",
    "    spatial_extent = {\n",
    "        \"west\": bbox[0],\n",
    "        \"south\": bbox[1],\n",
    "        \"east\": bbox[2],\n",
    "        \"north\": bbox[3]\n",
    "    }\n",
    "    \n",
    "    # Define the process graph\n",
    "    datacube = connection.load_collection(\n",
    "        \"SENTINEL2_L2A\",\n",
    "        spatial_extent = spatial_extent,\n",
    "        temporal_extent = [start_date, end_date],\n",
    "        bands = [\"B04\", \"B03\", \"B02\"]\n",
    "    )\n",
    "\n",
    "    result = datacube.save_result(\"GTiff\")\n",
    "    # Creating a new job at the back-end by sending the datacube information.\n",
    "    job = result.create_job()\n",
    "    # Starts the job and waits until it finished to download the result.\n",
    "    job.start_and_wait()\n",
    "    job.get_results().download_files(\"openeo_output\")"
   ]
  },
  {
   "cell_type": "code",
   "execution_count": null,
   "metadata": {},
   "outputs": [],
   "source": [
    "bbox = [13.294333, 52.454927, 13.500205, 52.574409]\n",
    "# Y-M-D\n",
    "start_date = '2023-06-01T12:00:00Z'\n",
    "end_date = '2023-06-30T12:00:00Z'\n",
    "cloud_cover_percentage = 0.01\n",
    "\n",
    "#gdf = download_and_process_osm_data(bbox)\n",
    "connection = connect_to_openeo()\n",
    "sentinel2_path = download_sentinel2_images_openeo(connection, bbox, start_date, end_date, cloud_cover_percentage)\n",
    "#plot_data(gdf, sentinel2_path)\n"
   ]
  },
  {
   "cell_type": "code",
   "execution_count": 49,
   "metadata": {},
   "outputs": [],
   "source": [
    "def plot_data(gdf, raster_path):\n",
    "    print(\"Plotting data...\")\n",
    "    fig, ax = plt.subplots(1, 1, figsize=(10, 10))\n",
    "    gdf.plot(ax=ax, facecolor='none', edgecolor='red', label='Buildings')\n",
    "    \n",
    "    with rasterio.open(raster_path) as src:\n",
    "        show(src, ax=ax, title=\"Sentinel 2 Image with Buildings Overlay\")\n",
    "    \n",
    "    plt.legend()\n",
    "    plt.show()\n",
    "    print(\"Data plotted.\")"
   ]
  },
  {
   "cell_type": "markdown",
   "metadata": {},
   "source": [
    "### 1.2 Data Preparation (25/100 points)"
   ]
  },
  {
   "cell_type": "code",
   "execution_count": null,
   "metadata": {},
   "outputs": [],
   "source": []
  },
  {
   "cell_type": "markdown",
   "metadata": {},
   "source": [
    "### 1.3 Modeling and Tuning (35/100 points)"
   ]
  },
  {
   "cell_type": "code",
   "execution_count": null,
   "metadata": {},
   "outputs": [],
   "source": []
  },
  {
   "cell_type": "markdown",
   "metadata": {},
   "source": [
    "### 1.4 Data Augmentation (25/100 points)"
   ]
  },
  {
   "cell_type": "code",
   "execution_count": null,
   "metadata": {},
   "outputs": [],
   "source": []
  }
 ],
 "metadata": {
  "kernelspec": {
   "display_name": "Python 3",
   "language": "python",
   "name": "python3"
  },
  "language_info": {
   "codemirror_mode": {
    "name": "ipython",
    "version": 3
   },
   "file_extension": ".py",
   "mimetype": "text/x-python",
   "name": "python",
   "nbconvert_exporter": "python",
   "pygments_lexer": "ipython3",
   "version": "3.12.3"
  }
 },
 "nbformat": 4,
 "nbformat_minor": 2
}
